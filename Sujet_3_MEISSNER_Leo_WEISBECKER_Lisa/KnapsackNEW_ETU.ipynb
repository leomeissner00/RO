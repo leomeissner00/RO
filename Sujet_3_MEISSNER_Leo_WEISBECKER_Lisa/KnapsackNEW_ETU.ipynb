{
 "cells": [
  {
   "attachments": {},
   "cell_type": "markdown",
   "metadata": {},
   "source": [
    "# TP 3 : Programmation dynamique"
   ]
  },
  {
   "cell_type": "markdown",
   "metadata": {},
   "source": [
    "### Initialisation (à faire une seule fois)"
   ]
  },
  {
   "cell_type": "code",
   "execution_count": 16,
   "metadata": {},
   "outputs": [
    {
     "name": "stderr",
     "output_type": "stream",
     "text": [
      "\u001b[32m\u001b[1m   Resolving\u001b[22m\u001b[39m package versions...\n"
     ]
    },
    {
     "name": "stderr",
     "output_type": "stream",
     "text": [
      "\u001b[32m\u001b[1m  No Changes\u001b[22m\u001b[39m to `~/.julia/environments/v1.8/Project.toml`\n",
      "\u001b[32m\u001b[1m  No Changes\u001b[22m\u001b[39m to `~/.julia/environments/v1.8/Manifest.toml`\n"
     ]
    },
    {
     "name": "stderr",
     "output_type": "stream",
     "text": [
      "\u001b[32m\u001b[1m   Resolving\u001b[22m\u001b[39m package versions...\n"
     ]
    },
    {
     "name": "stderr",
     "output_type": "stream",
     "text": [
      "\u001b[32m\u001b[1m  No Changes\u001b[22m\u001b[39m to `~/.julia/environments/v1.8/Project.toml`\n",
      "\u001b[32m\u001b[1m  No Changes\u001b[22m\u001b[39m to `~/.julia/environments/v1.8/Manifest.toml`\n"
     ]
    }
   ],
   "source": [
    "import Pkg; \n",
    "Pkg.add(\"GraphRecipes\"); Pkg.add(\"Plots\"); \n",
    "using GraphRecipes, Plots #only used to visualize the search tree at the end of the branch-and-bound"
   ]
  },
  {
   "cell_type": "markdown",
   "metadata": {},
   "source": [
    "### Récupération des données"
   ]
  },
  {
   "cell_type": "code",
   "execution_count": 17,
   "metadata": {},
   "outputs": [
    {
     "data": {
      "text/plain": [
       "readKnaptxtInstance (generic function with 1 method)"
      ]
     },
     "metadata": {},
     "output_type": "display_data"
    }
   ],
   "source": [
    "function readKnaptxtInstance(filename)\n",
    "    price=[]\n",
    "    weight=[]\n",
    "    KnapCap=[]\n",
    "    open(filename) do f\n",
    "        for i in 1:3\n",
    "            tok = split(readline(f))\n",
    "            if(tok[1] == \"ListPrices=\")\n",
    "                for i in 2:(length(tok)-1)\n",
    "                    push!(price,parse(Int64, tok[i]))\n",
    "                end\n",
    "            elseif(tok[1] == \"ListWeights=\")\n",
    "                for i in 2:(length(tok)-1)\n",
    "                    push!(weight,parse(Int64, tok[i]))\n",
    "                end\n",
    "            elseif(tok[1] == \"Capacity=\")\n",
    "                push!(KnapCap, parse(Int64, tok[2]))\n",
    "            else\n",
    "                println(\"Unknown read :\", tok)\n",
    "            end \n",
    "        end\n",
    "    end\n",
    "    capacity=KnapCap[1]\n",
    "    return price, weight, capacity\n",
    "end"
   ]
  },
  {
   "cell_type": "code",
   "execution_count": 18,
   "metadata": {},
   "outputs": [
    {
     "data": {
      "text/plain": [
       "SolveKnapInstance (generic function with 1 method)"
      ]
     },
     "metadata": {},
     "output_type": "display_data"
    }
   ],
   "source": [
    "# Algorithme de programmation dynamique résolvant le problème du sac à dos\n",
    "function SolveKnapInstance(filename)\n",
    "    price, weight, capacity = readKnaptxtInstance(filename)\n",
    "    n=length(price)\n",
    "    variables = zeros((n+1, capacity+1))\n",
    "    # Construction de la matrice des bénéfices\n",
    "    for i in 2:(n+1)\n",
    "        for j in 2:capacity+1\n",
    "            if (j - weight[i-1])<1\n",
    "                variables[i,j] = variables[(i-1),j]\n",
    "            else\n",
    "                variables[i,j] = max(variables[(i-1),j], variables[i-1,(j-weight[i-1])]+price[i-1])\n",
    "            end\n",
    "        end\n",
    "    end\n",
    "    # Le meilleur bénéfice est celui de la case de la dernière colonne et de la dernière ligne\n",
    "    bestProfit = variables[n+1, capacity+1]\n",
    "    obj = zeros(n)\n",
    "    i = n+1\n",
    "    j = capacity+1\n",
    "    # Récupération des objets utilisés pour remplir le sac \n",
    "    while bestProfit!=0\n",
    "        if variables[i-1, j] != bestProfit # Si la valeur de la ligne i-1 est différente de celle de la ligne i, c'est que l'objet i-1 a été mis dans le sac\n",
    "            \n",
    "            i = i-1\n",
    "            obj[i] = 1 # L'objet est mis dans le sac\n",
    "            j = j- weight[i]\n",
    "            # Maj du profit (Le profit de l'objet mis dans le sac est retiré à bestProfit)\n",
    "            bestProfit = variables[i,j]\n",
    "        else\n",
    "            i = i-1\n",
    "    end\n",
    "        \n",
    "    end\n",
    "\n",
    "    return variables, obj\n",
    "\n",
    "end"
   ]
  },
  {
   "cell_type": "code",
   "execution_count": 19,
   "metadata": {},
   "outputs": [
    {
     "data": {
      "text/plain": [
       "([0.0 0.0 … 0.0 0.0; 0.0 0.0 … 42.0 42.0; … ; 0.0 0.0 … 52.0 54.0; 0.0 0.0 … 65.0 65.0], [0.0, 1.0, 0.0, 1.0])"
      ]
     },
     "metadata": {},
     "output_type": "display_data"
    }
   ],
   "source": [
    "v = SolveKnapInstance(\"instancesETU/KNAPnewformat/test.opb.txt\")"
   ]
  },
  {
   "cell_type": "code",
   "execution_count": 20,
   "metadata": {},
   "outputs": [
    {
     "data": {
      "text/plain": [
       "([0.0 0.0 … 0.0 0.0; 0.0 0.0 … 585.0 585.0; … ; 0.0 0.0 … 2095.0 2096.0; 0.0 0.0 … 2095.0 2096.0], [0.0, 0.0, 0.0, 0.0, 0.0, 0.0, 1.0, 0.0, 0.0, 0.0  …  0.0, 0.0, 0.0, 0.0, 0.0, 0.0, 0.0, 0.0, 0.0, 0.0])"
      ]
     },
     "metadata": {},
     "output_type": "display_data"
    }
   ],
   "source": [
    "v = SolveKnapInstance(\"instancesETU/KNAPnewformat/almost_strongly_correlated/knapPI_5_50_1000_1_-2096.opb.txt\")\n"
   ]
  },
  {
   "cell_type": "code",
   "execution_count": 21,
   "metadata": {},
   "outputs": [
    {
     "data": {
      "text/plain": [
       "([0.0 0.0 … 0.0 0.0; 0.0 0.0 … 485.0 485.0; … ; 0.0 0.0 … 992.0 994.0; 0.0 0.0 … 992.0 994.0], [0.0, 0.0, 0.0, 0.0, 0.0, 0.0, 0.0, 0.0, 0.0, 0.0  …  0.0, 0.0, 0.0, 0.0, 0.0, 0.0, 0.0, 0.0, 0.0, 0.0])"
      ]
     },
     "metadata": {},
     "output_type": "display_data"
    }
   ],
   "source": [
    "v = SolveKnapInstance(\"instancesETU/KNAPnewformat/inverse_strongly_correlated/knapPI_4_50_1000_1_-994.opb.txt\")"
   ]
  },
  {
   "cell_type": "code",
   "execution_count": 22,
   "metadata": {},
   "outputs": [
    {
     "data": {
      "text/plain": [
       "([0.0 0.0 … 0.0 0.0; 0.0 0.0 … 403.0 403.0; … ; 0.0 0.0 … 3408.0 3408.0; 0.0 0.0 … 3408.0 3408.0], [1.0, 0.0, 0.0, 0.0, 0.0, 0.0, 0.0, 0.0, 0.0, 0.0  …  0.0, 0.0, 1.0, 0.0, 1.0, 1.0, 0.0, 0.0, 0.0, 0.0])"
      ]
     },
     "metadata": {},
     "output_type": "display_data"
    }
   ],
   "source": [
    "v = SolveKnapInstance(\"instancesETU/KNAPnewformat/circle/knapPI_16_50_1000_1_-3408.opb.txt\")"
   ]
  },
  {
   "cell_type": "code",
   "execution_count": 24,
   "metadata": {},
   "outputs": [
    {
     "data": {
      "text/plain": [
       "([0.0 0.0 … 0.0 0.0; 0.0 0.0 … 96.0 96.0; … ; 0.0 3.0 … 41307.0 41307.0; 0.0 3.0 … 41307.0 41307.0], [1.0, 0.0, 0.0, 0.0, 0.0, 0.0, 0.0, 0.0, 0.0, 0.0  …  0.0, 0.0, 0.0, 0.0, 0.0, 0.0, 0.0, 0.0, 0.0, 0.0])"
      ]
     },
     "metadata": {},
     "output_type": "display_data"
    }
   ],
   "source": [
    "v = SolveKnapInstance(\"instancesETU/KNAPnewformat/profit_ceiling/knapPI_15_2000_1000_4_-40743.opb.txt\")"
   ]
  },
  {
   "attachments": {},
   "cell_type": "markdown",
   "metadata": {},
   "source": [
    "Ce résultat est adéquat car les objets mis dans le sac pour l'instance test.opb.txt correspondent à la résolution que nous avons effectué à la main en TD. "
   ]
  },
  {
   "attachments": {},
   "cell_type": "markdown",
   "metadata": {},
   "source": [
    "L'algorithme comporte 2 étapes principales. Dans la première, on construit la matrice contenant les valeurs de Cij,\n",
    "correspondant à la valeur maximale des objets que l'on peut transporter (compris entre ceux numérotés de 1 à i) avec une \n",
    "capacité maximale de j.\n",
    "Pour cela, on remplit trivialement la première ligne et la première colonne de 0 et le reste avec la relation de récurrence fournie.\n",
    "\n",
    "Dans la 2e étape, on repère la capacité maximale obtenue et on remonte la relation de récurrence en sens inverse dans la matrice \n",
    "pour récupérer les objets mis dans le sac à dos permettant d'obtenir cette solution optimale. "
   ]
  },
  {
   "attachments": {},
   "cell_type": "markdown",
   "metadata": {},
   "source": [
    "### Comparaison des 2 algorithmes"
   ]
  },
  {
   "attachments": {},
   "cell_type": "markdown",
   "metadata": {},
   "source": [
    "|                  | test.opb.txt         | almost strongly correlated | inverse strongly correlated| circle| profit_ceiling|\n",
    "| :--------------- |:---------------      | :---------------           | :---------------           | :--- | :-----|\n",
    "| Nombre d'objet   |   4                  |  50                        |  50                        | 50| 2000\n",
    "| Capacité         | 10                   |   1000                     |   1000                     | 1000| 1000\n",
    "| Résultat         | 65                   |   2096                     |   994                      | 3408 | 40743\n",
    "| Temps Algo TP3   |      0.1s            |    1.2s                    |    1.2s                    | 0.4s | 2min 27.1s\n",
    "| Temps Algo TP2   |       0.3s           |    3.3s                    |    2.9s                    | 4.2s | Overtime"
   ]
  },
  {
   "attachments": {},
   "cell_type": "markdown",
   "metadata": {},
   "source": [
    "On peut voir que les bénéfices maximum sont toujours trouvés pour les petites instances. On peut également remarqué, que le l'algorithme du tp3 est plus rapide que l'algorithme du tp2 ce qui est logique étant donnée la complexité des algorithme, n*m pour le 3 et $2^n$ pour le 2. "
   ]
  }
 ],
 "metadata": {
  "kernelspec": {
   "display_name": "Julia 1.8.3",
   "language": "julia",
   "name": "julia-1.8"
  },
  "language_info": {
   "file_extension": ".jl",
   "mimetype": "application/julia",
   "name": "julia",
   "version": "1.8.3"
  }
 },
 "nbformat": 4,
 "nbformat_minor": 4
}
