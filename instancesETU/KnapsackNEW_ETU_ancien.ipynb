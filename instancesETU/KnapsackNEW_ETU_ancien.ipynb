{
 "cells": [
  {
   "cell_type": "markdown",
   "metadata": {},
   "source": [
    "# TP 2-3 : Branch-and-bound applied to a knapsack problem"
   ]
  },
  {
   "cell_type": "markdown",
   "metadata": {},
   "source": [
    "### Initialisation (à faire une seule fois)"
   ]
  },
  {
   "cell_type": "code",
   "execution_count": 2,
   "metadata": {},
   "outputs": [
    {
     "name": "stderr",
     "output_type": "stream",
     "text": [
      "\u001b[32m\u001b[1m    Updating\u001b[22m\u001b[39m registry at `~/.julia/registries/General.toml`\n"
     ]
    },
    {
     "name": "stderr",
     "output_type": "stream",
     "text": [
      "\u001b[32m\u001b[1m   Resolving\u001b[22m\u001b[39m package versions...\n"
     ]
    },
    {
     "name": "stderr",
     "output_type": "stream",
     "text": [
      "\u001b[32m\u001b[1m  No Changes\u001b[22m\u001b[39m to `~/.julia/environments/v1.8/Project.toml`\n",
      "\u001b[32m\u001b[1m  No Changes\u001b[22m\u001b[39m to `~/.julia/environments/v1.8/Manifest.toml`\n"
     ]
    },
    {
     "name": "stderr",
     "output_type": "stream",
     "text": [
      "\u001b[32m\u001b[1m   Resolving\u001b[22m\u001b[39m package versions...\n"
     ]
    },
    {
     "name": "stderr",
     "output_type": "stream",
     "text": [
      "\u001b[32m\u001b[1m  No Changes\u001b[22m\u001b[39m to `~/.julia/environments/v1.8/Project.toml`\n",
      "\u001b[32m\u001b[1m  No Changes\u001b[22m\u001b[39m to `~/.julia/environments/v1.8/Manifest.toml`\n"
     ]
    }
   ],
   "source": [
    "import Pkg; \n",
    "Pkg.add(\"GraphRecipes\"); Pkg.add(\"Plots\"); \n",
    "using GraphRecipes, Plots #only used to visualize the search tree at the end of the branch-and-bound"
   ]
  },
  {
   "cell_type": "markdown",
   "metadata": {},
   "source": [
    "### Récupération des données"
   ]
  },
  {
   "cell_type": "code",
   "execution_count": 3,
   "metadata": {},
   "outputs": [
    {
     "data": {
      "text/plain": [
       "readKnaptxtInstance (generic function with 1 method)"
      ]
     },
     "metadata": {},
     "output_type": "display_data"
    }
   ],
   "source": [
    "function readKnaptxtInstance(filename)\n",
    "    price=[]\n",
    "    weight=[]\n",
    "    KnapCap=[]\n",
    "    open(filename) do f\n",
    "        for i in 1:3\n",
    "            tok = split(readline(f))\n",
    "            if(tok[1] == \"ListPrices=\")\n",
    "                for i in 2:(length(tok)-1)\n",
    "                    push!(price,parse(Int64, tok[i]))\n",
    "                end\n",
    "            elseif(tok[1] == \"ListWeights=\")\n",
    "                for i in 2:(length(tok)-1)\n",
    "                    push!(weight,parse(Int64, tok[i]))\n",
    "                end\n",
    "            elseif(tok[1] == \"Capacity=\")\n",
    "                push!(KnapCap, parse(Int64, tok[2]))\n",
    "            else\n",
    "                println(\"Unknown read :\", tok)\n",
    "            end \n",
    "        end\n",
    "    end\n",
    "    capacity=KnapCap[1]\n",
    "    return price, weight, capacity\n",
    "end"
   ]
  },
  {
   "cell_type": "markdown",
   "metadata": {},
   "source": [
    "### Tests de sondabilités TA, TO et TR basés sur le modèle linéaire"
   ]
  },
  {
   "cell_type": "code",
   "execution_count": 4,
   "metadata": {},
   "outputs": [
    {
     "data": {
      "text/plain": [
       "TestsSondabilite_LP (generic function with 1 method)"
      ]
     },
     "metadata": {},
     "output_type": "display_data"
    }
   ],
   "source": [
    "function TestsSondabilite_LP(model2, BestProfit, Bestsol)\n",
    "    TA, TO, TR = false, false, false\n",
    "    if(model2.infeasible)#Test d'admissibilité\n",
    "        TA=true\n",
    "        println(\"TA\")\n",
    "        \n",
    "    elseif(model2.bound <= BestProfit) #Test d'optimalite\n",
    "        TO=true\n",
    "        println(\"TO\")\n",
    "    elseif(allVariableLock(model2)) #Test de resolution\n",
    "        TR=true\n",
    "        println(\"TR\")\n",
    "        #if (value(benef) >= BestProfit)\n",
    "        actualProfit = objective_value(model2)\n",
    "        if (actualProfit >= BestProfit)\n",
    "            Bestsol = getValue.(model2.variables)\n",
    "            #BestProfit=value(benef)\n",
    "            BestProfit= actualProfit\n",
    "            println(\"\\nNew Solution memorized \", Bestsol, \" with bestprofit \", BestProfit, \"\\n\")\n",
    "        end\n",
    "    else\n",
    "        println(\"non sondable\")\n",
    "    end\n",
    "    TA, TO, TR, Bestsol, BestProfit\n",
    "end"
   ]
  },
  {
   "cell_type": "markdown",
   "metadata": {},
   "source": [
    "## Procédure de séparation (branching) et stratégie d'exploration permettant de se placer au prochain noeud à traiter"
   ]
  },
  {
   "cell_type": "code",
   "execution_count": 5,
   "metadata": {},
   "outputs": [
    {
     "data": {
      "text/plain": [
       "ExplorerAutreNoeud_depthfirst! (generic function with 1 method)"
      ]
     },
     "metadata": {},
     "output_type": "display_data"
    }
   ],
   "source": [
    "\n",
    "function SeparerNoeud_lexicographic_depthfirst!(model2, listobjs, listvals, n)\n",
    "    # this node is non-sondable. Apply the branching criterion to separate it into two subnodes\n",
    "    # and choose the child-node at the left  \n",
    "    \n",
    "    # lexicographic branching criterion: branch on the 1st object not yet fixed\n",
    "    local newObj\n",
    "    i, index = 1, 0\n",
    "    while((i <= n) && (index==0)) \n",
    "        obj = model2.variables[i]\n",
    "        if(!obj.lock)\n",
    "            index=i\n",
    "            setObj(model2, obj, 1.0)\n",
    "            newObj = obj\n",
    "        end\n",
    "        i+=1\n",
    "    end\n",
    "    println(\"\\nbranch on object \", newObj, \"\\n\")\n",
    "\n",
    "    # depthfirst exploration strategy: the node selected will be the most left of the child-nodes just created\n",
    "    push!(listobjs,newObj) #save the identity of the object selected for branching\n",
    "    push!(listvals,1.0) #save the node selected, identified by the value assigned to the variable/object chosen\n",
    "    return listobjs, listvals\n",
    "end\n",
    "\n",
    "\n",
    "function ExplorerAutreNoeud_depthfirst!(model2, listobjs, listvals, listnodes)\n",
    "    #this node is sondable, go back to parent node then right child if possible\n",
    "    \n",
    "    stop=false\n",
    "    #check if we are not at the root node\n",
    "    if (length(listobjs)>= 1)\n",
    "        #go back to parent node\n",
    "        obj=pop!(listobjs)\n",
    "        theval=pop!(listvals)\n",
    "        tmp=pop!(listnodes)\n",
    "        lockObj(model2, obj)\n",
    "\n",
    "        #go to right child if possible, otherwise go back to parent\n",
    "        while( (theval==0.0) && (length(listobjs)>= 1))\n",
    "            obj=pop!(listobjs)\n",
    "            theval=pop!(listvals)\n",
    "            tmp=pop!(listnodes)\n",
    "            lockObj(model2, obj)\n",
    "        end\n",
    "        if theval==1.0\n",
    "            setObj(model2, obj, 0.0)\n",
    "            push!(listobjs,obj)\n",
    "            push!(listvals,0.0)\n",
    "        else\n",
    "            println(\"\\nFINISHED\")\n",
    "            stop=true\n",
    "        end\n",
    "    else\n",
    "        #the root node was sondable\n",
    "        println(\"\\nFINISHED\")\n",
    "        stop=true\n",
    "    end\n",
    "    return listobjs, listvals, listnodes, stop \n",
    "end"
   ]
  },
  {
   "attachments": {},
   "cell_type": "markdown",
   "metadata": {},
   "source": [
    "###  Création de la relaxation linéaire (= modèle associé au noeud 0): "
   ]
  },
  {
   "cell_type": "code",
   "execution_count": 6,
   "metadata": {},
   "outputs": [
    {
     "data": {
      "text/plain": [
       "CreationModele_LP (generic function with 1 method)"
      ]
     },
     "metadata": {},
     "output_type": "display_data"
    }
   ],
   "source": [
    "mutable struct objDecision\n",
    "    value::Float64\n",
    "    index::Int64\n",
    "    lock::Bool\n",
    "\n",
    "end\n",
    "\n",
    "function getValue(obj)\n",
    "    return obj.value\n",
    "end\n",
    "\n",
    "function getName(obj)\n",
    "    return string(\"x[\", obj.index, \"]\")\n",
    "end\n",
    "\n",
    "mutable struct modelBase\n",
    "    boundChoice::String\n",
    "    variables::Array{objDecision, 1}\n",
    "    nbFree::Int64\n",
    "    capacity::Int64\n",
    "    prices::Array{Int64, 1}\n",
    "    weights::Array{Int64, 1}\n",
    "    infeasible::Bool\n",
    "    bound::Float64\n",
    "end\n",
    "\n",
    "function objective_value(model)\n",
    "    return sum([obj.value * model.prices[obj.index] for obj in model.variables])\n",
    "end\n",
    "\n",
    "function actualWeight(model)\n",
    "    return mapreduce(obj -> (!obj.lock ? 0. : obj.value) * model.weights[obj.index], +, model.variables, init = 0)\n",
    "end\n",
    "\n",
    "function resolution(model)\n",
    "    residualCapacity = model.capacity - actualWeight(model)\n",
    "    infeasible = !(residualCapacity >= 0.1)\n",
    "    bound = -1\n",
    "\n",
    "    if !infeasible\n",
    "        #Calcul du prix actuel se trouvant dans le sac\n",
    "        bound = mapreduce(obj -> (!obj.lock ? 0. : obj.value) * model.prices[obj.index], +, model.variables, init = 0)\n",
    "        i, index = 1, 0\n",
    "        while((i<= length(model.weights)) && (index ==0))\n",
    "            obj = model.variables[i]\n",
    "            if !obj.lock\n",
    "                index=i\n",
    "                bound += residualCapacity * (model.prices[obj.index] / model.weights[obj.index])\n",
    "            end\n",
    "            i += 1\n",
    "        end\n",
    "    end\n",
    "    model.infeasible = infeasible\n",
    "    model.bound = bound\n",
    "end\n",
    "\n",
    "function allVariableLock(model)\n",
    "    if (model.nbFree == 1)\n",
    "        i, index = 1, 0\n",
    "        while((i<= length(model.weights)) && (index ==0))\n",
    "            obj = model.variables[i]\n",
    "            if !obj.lock\n",
    "                index=i\n",
    "                residualCapacity = model.capacity - actualWeight(model)\n",
    "                obj.value = model.weights[obj.index] <=  residualCapacity  ? 1.0 : 0.0\n",
    "            end\n",
    "            i += 1\n",
    "        end\n",
    "    end\n",
    "\n",
    "    return (model.nbFree == 1)\n",
    "end\n",
    "\n",
    "function lockObj(model, obj)\n",
    "    model.nbFree += 1\n",
    "    obj.lock = false\n",
    "end\n",
    "\n",
    "function setObj(model, obj, value)\n",
    "    obj.lock = true\n",
    "    obj.value = value\n",
    "    model.nbFree -= 1\n",
    "end\n",
    "\n",
    "function CreationModele_LP(boundChoice, price,weight, capacity)\n",
    "    n = length(price)\n",
    "    perm = sortperm(price ./ weight, rev = true)\n",
    "    vars = Array{objDecision, 1}(undef, n)\n",
    "    for i = 1:n\n",
    "        vars[i] = objDecision(0.0, i, false)\n",
    "    end\n",
    "    model2 = modelBase(boundChoice, view(vars, perm),n , capacity, price, weight, false, -1)\n",
    "    \n",
    "    return model2\n",
    "end\n"
   ]
  },
  {
   "cell_type": "markdown",
   "metadata": {},
   "source": [
    "### Boucle principale : résoudre une relaxation, appliquer les tests de sondabilité, identifier le prochain noeud, répéter."
   ]
  },
  {
   "cell_type": "code",
   "execution_count": 7,
   "metadata": {},
   "outputs": [
    {
     "data": {
      "text/plain": [
       "SolveKnapInstance (generic function with 1 method)"
      ]
     },
     "metadata": {},
     "output_type": "display_data"
    }
   ],
   "source": [
    "\n",
    "function SolveKnapInstance(filename)\n",
    "\n",
    "    price, weight, capacity = readKnaptxtInstance(filename)\n",
    "\n",
    "    model2 = CreationModele_LP(\"simpl\", price, weight, capacity)\n",
    "\n",
    "    #create the structure to memorize the search tree for visualization at the end\n",
    "    trParentnodes=Int64[] #will store orig node of arc in search tree\n",
    "    trChildnodes=Int64[] #will store destination node of arc in search tree\n",
    "    trNamenodes=[] #will store names of nodes in search tree\n",
    "\n",
    "    #intermediate structure to navigate in the search tree\n",
    "    listobjs=[]\n",
    "    listvals=[]\n",
    "    listnodes=[]\n",
    "\n",
    "    BestProfit=-1\n",
    "    Bestsol=[]\n",
    "\n",
    "    current_node_number=0\n",
    "    stop = false\n",
    "\n",
    "    while(!stop)\n",
    "\n",
    "        println(\"\\nNode number \", current_node_number, \": \\n---------------\\n\")\n",
    "\n",
    "        #Update the graphical tree\n",
    "        push!(trNamenodes,current_node_number+1) \n",
    "        if(length(trNamenodes)>=2)\n",
    "            push!(trParentnodes,listnodes[end]+1) # +1 because the 1st node is \"node 0\"\n",
    "            push!(trChildnodes, current_node_number+1) # +1 because the 1st node is \"node 0\"\n",
    "        end\n",
    "        push!(listnodes, current_node_number)\n",
    "\n",
    "        \n",
    "        #create LP of current node\n",
    "        resolution(model2)\n",
    "        \n",
    "    \n",
    "        \n",
    "        #print(\"Solve the LP model of the current node to compute its bound: start ... \")\n",
    "        #status = optimize!(model2)\n",
    "        #println(\"... end\"); \n",
    "\n",
    "        print(\": Solution LP\")\n",
    "        if(model2.infeasible)#(has_values(model2))\n",
    "            print(\" : NOT AVAILABLE (probably infeasible or ressources limit reached)\")\n",
    "        else\n",
    "            print(\" \", objective_value(model2))\n",
    "            [print(\"\\t\", getName(v),\"=\",getValue(v)) for v in model2.variables] \n",
    "        end\n",
    "        println(\" \"); \n",
    "\n",
    "\n",
    "        println(\"\\nPrevious Solution memorized \", Bestsol, \" with bestprofit \", BestProfit, \"\\n\")\n",
    "\n",
    "        TA, TO, TR, Bestsol, BestProfit = TestsSondabilite_LP(model2, BestProfit, Bestsol)\n",
    "\n",
    "        is_node_sondable = TA || TO || TR\n",
    "\n",
    "        #Reset_LP!(model2, x, listobjs)\n",
    "\n",
    "        if(!is_node_sondable)\n",
    "            listobjs, listvals = SeparerNoeud_lexicographic_depthfirst!(model2, listobjs, listvals, length(price))\n",
    "        else\n",
    "            listobjs, listvals, listnodes, stop = ExplorerAutreNoeud_depthfirst!(model2, listobjs, listvals, listnodes)\n",
    "        end\n",
    "\n",
    "        current_node_number = current_node_number + 1\n",
    "    end\n",
    "\n",
    "    println(\"\\n******\\n\\nOptimal value = \", BestProfit, \"\\n\\nOptimal x=\", Bestsol)\n",
    "\n",
    "    [print(\"\\t\", getName(v),\"=\",getValue(v)) for v in model2.variables]\n",
    "    return BestProfit, Bestsol, trParentnodes, trChildnodes, trNamenodes\n",
    "\n",
    "end\n"
   ]
  },
  {
   "cell_type": "markdown",
   "metadata": {},
   "source": [
    "### Affichage du résultat final"
   ]
  },
  {
   "cell_type": "code",
   "execution_count": 8,
   "metadata": {},
   "outputs": [
    {
     "name": "stdout",
     "output_type": "stream",
     "text": [
      "\n",
      "Node number 0: \n",
      "---------------\n",
      "\n",
      ": Solution LP 0.0\tx[2]=0.0\tx[1]=0.0\tx[4]=0.0\tx[3]=0.0 \n",
      "\n",
      "Previous Solution memorized "
     ]
    },
    {
     "name": "stdout",
     "output_type": "stream",
     "text": [
      "Any[] with bestprofit -1\n",
      "\n",
      "non sondable\n",
      "\n",
      "branch on object "
     ]
    },
    {
     "name": "stdout",
     "output_type": "stream",
     "text": [
      "objDecision(1.0, 2, true)\n",
      "\n",
      "\n",
      "Node number 1: \n",
      "---------------\n",
      "\n",
      ": Solution LP 40.0\tx[2]=1.0\tx[1]=0.0\tx[4]=0.0\tx[3]=0.0 \n",
      "\n",
      "Previous Solution memorized Any[] with bestprofit -1\n",
      "\n",
      "non sondable\n",
      "\n",
      "branch on object objDecision(1.0, 1, true)\n",
      "\n",
      "\n",
      "Node number 2: \n",
      "---------------\n",
      "\n",
      ": Solution LP : NOT AVAILABLE (probably infeasible or ressources limit reached) \n",
      "\n",
      "Previous Solution memorized Any[] with bestprofit -1\n",
      "\n",
      "TA\n",
      "\n",
      "Node number 3: \n",
      "---------------\n",
      "\n",
      ": Solution LP 40.0\tx[2]=1.0\tx[1]=0.0\tx[4]=0.0\tx[3]=0.0 \n",
      "\n",
      "Previous Solution memorized Any[] with bestprofit -1\n",
      "\n",
      "non sondable\n",
      "\n",
      "branch on object objDecision(1.0, 4, true)\n",
      "\n",
      "\n",
      "Node number 4: \n",
      "---------------\n",
      "\n",
      ": Solution LP 65.0\tx[2]=1.0\tx[1]=0.0\tx[4]=1.0\tx[3]=0.0 \n",
      "\n",
      "Previous Solution memorized Any[] with bestprofit -1\n",
      "\n",
      "TR\n",
      "\n",
      "New Solution memorized "
     ]
    },
    {
     "name": "stdout",
     "output_type": "stream",
     "text": [
      "[1.0, 0.0, 1.0, 0.0] with bestprofit 65.0\n",
      "\n",
      "\n",
      "Node number 5: \n",
      "---------------\n",
      "\n",
      ": Solution LP 40.0\tx[2]=1.0\tx[1]=0.0\tx[4]=0.0\tx[3]=0.0 \n",
      "\n",
      "Previous Solution memorized [1.0, 0.0, 1.0, 0.0] with bestprofit 65.0\n",
      "\n",
      "TO\n",
      "\n",
      "Node number 6: \n",
      "---------------\n",
      "\n",
      ": Solution LP 0.0\tx[2]=0.0\tx[1]=0.0\tx[4]=0.0\tx[3]=0.0 \n",
      "\n",
      "Previous Solution memorized [1.0, 0.0, 1.0, 0.0] with bestprofit 65.0\n",
      "\n",
      "TO\n",
      "\n",
      "FINISHED\n",
      "\n",
      "******\n",
      "\n",
      "Optimal value = 65.0\n",
      "\n",
      "Optimal x=[1.0, 0.0, 1.0, 0.0]\n",
      "\tx[2]=0.0\tx[1]=0.0\tx[4]=0.0\tx[3]=0.0\n",
      "******\n",
      "\n",
      "Optimal value = 65.0\n",
      "\n",
      "Optimal x=[1.0, 0.0, 1.0, 0.0]\n"
     ]
    },
    {
     "data": {
      "image/png": "[encoded data removed]",
      "image/svg+xml": "<?xml version=\"1.0\" encoding=\"utf-8\"?>\n<svg xmlns=\"http://www.w3.org/2000/svg\" xmlns:xlink=\"http://www.w3.org/1999/xlink\" width=\"600\" height=\"400\" viewBox=\"0 0 2400 1600\">\n<defs>\n  <clipPath id=\"clip830\">\n    <rect x=\"0\" y=\"0\" width=\"2400\" height=\"1600\"/>\n  </clipPath>\n</defs>\n<path clip-path=\"url(#clip830)\" d=\"\nM0 1600 L2400 1600 L2400 0 L0 0  Z\n  \" fill=\"#ffffff\" fill-rule=\"evenodd\" fill-opacity=\"1\"/>\n<defs>\n  <clipPath id=\"clip831\">\n    <rect x=\"480\" y=\"0\" width=\"1681\" height=\"1600\"/>\n  </clipPath>\n</defs>\n<path clip-path=\"url(#clip830)\" d=\"\nM447.244 1552.76 L1952.76 1552.76 L1952.76 47.2441 L447.244 47.2441  Z\n  \" fill=\"#ffffff\" fill-rule=\"evenodd\" fill-opacity=\"1\"/>\n<defs>\n  <clipPath id=\"clip832\">\n    <rect x=\"447\" y=\"47\" width=\"1507\" height=\"1507\"/>\n  </clipPath>\n</defs>\n<polyline clip-path=\"url(#clip832)\" style=\"stroke:#000000; stroke-linecap:round; stroke-linejoin:round; stroke-width:4; stroke-opacity:1; fill:none\" points=\"\n  1084.99,262.317 1086.24,276.674 1089.87,290.261 1095.71,303.136 1103.59,315.354 1113.31,326.974 1124.72,338.052 1137.62,348.645 1151.85,358.81 1167.22,368.605 \n  1183.57,378.086 1200.71,387.311 1218.47,396.336 1236.67,405.218 1255.14,414.015 1273.69,422.783 1292.16,431.58 1310.36,440.462 1328.12,449.487 1345.26,458.712 \n  1361.61,468.193 1376.98,477.987 1391.21,488.153 1404.12,498.746 1415.52,509.824 1425.25,521.444 1433.12,533.662 1438.96,546.536 1442.59,560.123 1443.84,574.48 \n  \n  \"/>\n<polyline clip-path=\"url(#clip832)\" style=\"stroke:#000000; stroke-linecap:round; stroke-linejoin:round; stroke-width:4; stroke-opacity:1; fill:none\" points=\"\n  1443.84,574.48 1444.87,590.93 1447.84,607.148 1452.63,623.153 1459.07,638.961 1467.04,654.59 1476.37,670.056 1486.94,685.378 1498.59,700.571 1511.18,715.653 \n  1524.57,730.641 1538.6,745.552 1553.14,760.403 1568.05,775.211 1583.17,789.994 1598.36,804.769 1613.48,819.551 1628.38,834.36 1642.93,849.211 1656.96,864.122 \n  1670.35,879.11 1682.94,894.192 1694.59,909.385 1705.15,924.706 1714.49,940.173 1722.45,955.802 1728.9,971.61 1733.68,987.615 1736.66,1003.83 1737.68,1020.28 \n  \n  \"/>\n<polyline clip-path=\"url(#clip832)\" style=\"stroke:#000000; stroke-linecap:round; stroke-linejoin:round; stroke-width:4; stroke-opacity:1; fill:none\" points=\"\n  1443.84,574.48 1442.77,585.988 1439.67,596.732 1434.67,606.767 1427.94,616.152 1419.62,624.942 1409.86,633.194 1398.83,640.965 1386.66,648.312 1373.51,655.29 \n  1359.52,661.957 1344.86,668.37 1329.67,674.584 1314.1,680.657 1298.31,686.644 1282.44,692.604 1266.64,698.591 1251.08,704.664 1235.89,710.878 1221.22,717.291 \n  1207.24,723.958 1194.09,730.936 1181.92,738.283 1170.88,746.054 1161.13,754.306 1152.81,763.096 1146.08,772.481 1141.08,782.516 1137.97,793.26 1136.9,804.768 \n  \n  \"/>\n<polyline clip-path=\"url(#clip832)\" style=\"stroke:#000000; stroke-linecap:round; stroke-linejoin:round; stroke-width:4; stroke-opacity:1; fill:none\" points=\"\n  1136.9,804.768 1136.04,822.641 1133.52,840.522 1129.48,858.412 1124.03,876.309 1117.3,894.212 1109.41,912.121 1100.48,930.036 1090.64,947.955 1080,965.879 \n  1068.68,983.805 1056.82,1001.73 1044.53,1019.67 1031.94,1037.6 1019.16,1055.53 1006.32,1073.47 993.542,1091.4 980.947,1109.34 968.657,1127.27 956.795,1145.2 \n  945.483,1163.13 934.843,1181.05 924.998,1198.97 916.068,1216.88 908.177,1234.79 901.447,1252.7 896,1270.59 891.957,1288.48 889.442,1306.36 888.577,1324.24 \n  \n  \"/>\n<polyline clip-path=\"url(#clip832)\" style=\"stroke:#000000; stroke-linecap:round; stroke-linejoin:round; stroke-width:4; stroke-opacity:1; fill:none\" points=\"\n  1136.9,804.768 1137.52,822.285 1139.3,839.986 1142.17,857.858 1146.04,875.886 1150.82,894.058 1156.42,912.36 1162.76,930.777 1169.75,949.297 1177.31,967.905 \n  1185.34,986.588 1193.77,1005.33 1202.49,1024.12 1211.44,1042.95 1220.51,1061.8 1229.63,1080.65 1238.7,1099.5 1247.64,1118.33 1256.37,1137.12 1264.79,1155.86 \n  1272.82,1174.55 1280.38,1193.15 1287.37,1211.67 1293.71,1230.09 1299.31,1248.39 1304.09,1266.56 1307.96,1284.59 1310.83,1302.46 1312.62,1320.17 1313.23,1337.68 \n  \n  \"/>\n<polyline clip-path=\"url(#clip832)\" style=\"stroke:#000000; stroke-linecap:round; stroke-linejoin:round; stroke-width:4; stroke-opacity:1; fill:none\" points=\"\n  1084.99,262.317 1083.51,276.947 1079.23,290.605 1072.35,303.363 1063.08,315.293 1051.63,326.467 1038.2,336.957 1023,346.834 1006.24,356.171 988.128,365.041 \n  968.874,373.514 948.684,381.663 927.767,389.56 906.329,397.278 884.579,404.887 862.726,412.46 840.976,420.069 819.538,427.786 798.621,435.683 778.431,443.833 \n  759.177,452.306 741.066,461.175 724.308,470.513 709.109,480.39 695.678,490.88 684.223,502.053 674.951,513.983 668.071,526.741 663.79,540.399 662.317,555.03 \n  \n  \"/>\n<path clip-path=\"url(#clip832)\" d=\"\nM1106.93 262.317 L1095.96 243.319 L1074.02 243.319 L1063.05 262.317 L1074.02 281.316 L1095.96 281.316 L1106.93 262.317 L1106.93 262.317  Z\n  \" fill=\"#009af9\" fill-rule=\"evenodd\" fill-opacity=\"1\"/>\n<polyline clip-path=\"url(#clip832)\" style=\"stroke:#000000; stroke-linecap:round; stroke-linejoin:round; stroke-width:4; stroke-opacity:1; fill:none\" points=\"\n  1106.93,262.317 1095.96,243.319 1074.02,243.319 1063.05,262.317 1074.02,281.316 1095.96,281.316 1106.93,262.317 \n  \"/>\n<path clip-path=\"url(#clip832)\" d=\"\nM1465.78 574.48 L1454.81 555.482 L1432.88 555.482 L1421.91 574.48 L1432.88 593.479 L1454.81 593.479 L1465.78 574.48 L1465.78 574.48  Z\n  \" fill=\"#009af9\" fill-rule=\"evenodd\" fill-opacity=\"1\"/>\n<polyline clip-path=\"url(#clip832)\" style=\"stroke:#000000; stroke-linecap:round; stroke-linejoin:round; stroke-width:4; stroke-opacity:1; fill:none\" points=\"\n  1465.78,574.48 1454.81,555.482 1432.88,555.482 1421.91,574.48 1432.88,593.479 1454.81,593.479 1465.78,574.48 \n  \"/>\n<path clip-path=\"url(#clip832)\" d=\"\nM1759.62 1020.28 L1748.65 1001.28 L1726.71 1001.28 L1715.75 1020.28 L1726.71 1039.28 L1748.65 1039.28 L1759.62 1020.28 L1759.62 1020.28  Z\n  \" fill=\"#009af9\" fill-rule=\"evenodd\" fill-opacity=\"1\"/>\n<polyline clip-path=\"url(#clip832)\" style=\"stroke:#000000; stroke-linecap:round; stroke-linejoin:round; stroke-width:4; stroke-opacity:1; fill:none\" points=\"\n  1759.62,1020.28 1748.65,1001.28 1726.71,1001.28 1715.75,1020.28 1726.71,1039.28 1748.65,1039.28 1759.62,1020.28 \n  \"/>\n<path clip-path=\"url(#clip832)\" d=\"\nM1158.84 804.768 L1147.87 785.769 L1125.93 785.769 L1114.96 804.768 L1125.93 823.766 L1147.87 823.766 L1158.84 804.768 L1158.84 804.768  Z\n  \" fill=\"#009af9\" fill-rule=\"evenodd\" fill-opacity=\"1\"/>\n<polyline clip-path=\"url(#clip832)\" style=\"stroke:#000000; stroke-linecap:round; stroke-linejoin:round; stroke-width:4; stroke-opacity:1; fill:none\" points=\"\n  1158.84,804.768 1147.87,785.769 1125.93,785.769 1114.96,804.768 1125.93,823.766 1147.87,823.766 1158.84,804.768 \n  \"/>\n<path clip-path=\"url(#clip832)\" d=\"\nM910.514 1324.24 L899.546 1305.24 L877.608 1305.24 L866.64 1324.24 L877.608 1343.23 L899.546 1343.23 L910.514 1324.24 L910.514 1324.24  Z\n  \" fill=\"#009af9\" fill-rule=\"evenodd\" fill-opacity=\"1\"/>\n<polyline clip-path=\"url(#clip832)\" style=\"stroke:#000000; stroke-linecap:round; stroke-linejoin:round; stroke-width:4; stroke-opacity:1; fill:none\" points=\"\n  910.514,1324.24 899.546,1305.24 877.608,1305.24 866.64,1324.24 877.608,1343.23 899.546,1343.23 910.514,1324.24 \n  \"/>\n<path clip-path=\"url(#clip832)\" d=\"\nM1335.17 1337.68 L1324.2 1318.68 L1302.26 1318.68 L1291.29 1337.68 L1302.26 1356.68 L1324.2 1356.68 L1335.17 1337.68 L1335.17 1337.68  Z\n  \" fill=\"#009af9\" fill-rule=\"evenodd\" fill-opacity=\"1\"/>\n<polyline clip-path=\"url(#clip832)\" style=\"stroke:#000000; stroke-linecap:round; stroke-linejoin:round; stroke-width:4; stroke-opacity:1; fill:none\" points=\"\n  1335.17,1337.68 1324.2,1318.68 1302.26,1318.68 1291.29,1337.68 1302.26,1356.68 1324.2,1356.68 1335.17,1337.68 \n  \"/>\n<path clip-path=\"url(#clip832)\" d=\"\nM684.255 555.03 L673.286 536.031 L651.348 536.031 L640.38 555.03 L651.348 574.028 L673.286 574.028 L684.255 555.03 L684.255 555.03  Z\n  \" fill=\"#009af9\" fill-rule=\"evenodd\" fill-opacity=\"1\"/>\n<polyline clip-path=\"url(#clip832)\" style=\"stroke:#000000; stroke-linecap:round; stroke-linejoin:round; stroke-width:4; stroke-opacity:1; fill:none\" points=\"\n  684.255,555.03 673.286,536.031 651.348,536.031 640.38,555.03 651.348,574.028 673.286,574.028 684.255,555.03 \n  \"/>\n<path clip-path=\"url(#clip832)\" d=\"M1084.99 262.717 L1084.64 262.517 L1084.64 262.117 L1084.99 261.917 L1085.33 262.117 L1085.33 262.517 Z\" fill=\"#009af9\" fill-rule=\"evenodd\" fill-opacity=\"1\" stroke=\"#000000\" stroke-opacity=\"1\" stroke-width=\"3.2\"/>\n<path clip-path=\"url(#clip832)\" d=\"M1443.84 574.88 L1443.5 574.68 L1443.5 574.28 L1443.84 574.08 L1444.19 574.28 L1444.19 574.68 Z\" fill=\"#009af9\" fill-rule=\"evenodd\" fill-opacity=\"1\" stroke=\"#000000\" stroke-opacity=\"1\" stroke-width=\"3.2\"/>\n<path clip-path=\"url(#clip832)\" d=\"M1737.68 1020.68 L1737.34 1020.48 L1737.34 1020.08 L1737.68 1019.88 L1738.03 1020.08 L1738.03 1020.48 Z\" fill=\"#009af9\" fill-rule=\"evenodd\" fill-opacity=\"1\" stroke=\"#000000\" stroke-opacity=\"1\" stroke-width=\"3.2\"/>\n<path clip-path=\"url(#clip832)\" d=\"M1136.9 805.168 L1136.56 804.968 L1136.56 804.568 L1136.9 804.368 L1137.25 804.568 L1137.25 804.968 Z\" fill=\"#009af9\" fill-rule=\"evenodd\" fill-opacity=\"1\" stroke=\"#000000\" stroke-opacity=\"1\" stroke-width=\"3.2\"/>\n<path clip-path=\"url(#clip832)\" d=\"M888.577 1324.64 L888.231 1324.44 L888.231 1324.04 L888.577 1323.84 L888.923 1324.04 L888.923 1324.44 Z\" fill=\"#009af9\" fill-rule=\"evenodd\" fill-opacity=\"1\" stroke=\"#000000\" stroke-opacity=\"1\" stroke-width=\"3.2\"/>\n<path clip-path=\"url(#clip832)\" d=\"M1313.23 1338.08 L1312.89 1337.88 L1312.89 1337.48 L1313.23 1337.28 L1313.58 1337.48 L1313.58 1337.88 Z\" fill=\"#009af9\" fill-rule=\"evenodd\" fill-opacity=\"1\" stroke=\"#000000\" stroke-opacity=\"1\" stroke-width=\"3.2\"/>\n<path clip-path=\"url(#clip832)\" d=\"M662.317 555.43 L661.971 555.23 L661.971 554.83 L662.317 554.63 L662.664 554.83 L662.664 555.23 Z\" fill=\"#009af9\" fill-rule=\"evenodd\" fill-opacity=\"1\" stroke=\"#000000\" stroke-opacity=\"1\" stroke-width=\"3.2\"/>\n<path clip-path=\"url(#clip830)\" d=\"M1076.57 273.994 L1083.26 273.994 L1083.26 250.924 L1075.98 252.382 L1075.98 248.656 L1083.22 247.197 L1087.31 247.197 L1087.31 273.994 L1093.99 273.994 L1093.99 277.437 L1076.57 277.437 L1076.57 273.994 Z\" fill=\"#000000\" fill-rule=\"evenodd\" fill-opacity=\"1\" /><path clip-path=\"url(#clip830)\" d=\"M1439.17 586.157 L1453.44 586.157 L1453.44 589.6 L1434.24 589.6 L1434.24 586.157 Q1436.57 583.747 1440.58 579.696 Q1444.61 575.625 1445.65 574.45 Q1447.61 572.242 1448.38 570.723 Q1449.17 569.184 1449.17 567.705 Q1449.17 565.295 1447.47 563.776 Q1445.79 562.257 1443.07 562.257 Q1441.15 562.257 1439 562.925 Q1436.88 563.594 1434.45 564.951 L1434.45 560.819 Q1436.92 559.826 1439.06 559.32 Q1441.21 558.814 1442.99 558.814 Q1447.69 558.814 1450.49 561.163 Q1453.28 563.513 1453.28 567.442 Q1453.28 569.305 1452.57 570.987 Q1451.89 572.647 1450.04 574.916 Q1449.54 575.503 1446.82 578.319 Q1444.11 581.114 1439.17 586.157 Z\" fill=\"#000000\" fill-rule=\"evenodd\" fill-opacity=\"1\" /><path clip-path=\"url(#clip830)\" d=\"M1741.4 1019.1 Q1744.34 1019.73 1745.98 1021.71 Q1747.64 1023.7 1747.64 1026.61 Q1747.64 1031.09 1744.56 1033.54 Q1741.48 1035.99 1735.81 1035.99 Q1733.91 1035.99 1731.88 1035.61 Q1729.87 1035.24 1727.73 1034.49 L1727.73 1030.54 Q1729.43 1031.53 1731.45 1032.04 Q1733.48 1032.55 1735.69 1032.55 Q1739.54 1032.55 1741.54 1031.03 Q1743.57 1029.51 1743.57 1026.61 Q1743.57 1023.94 1741.68 1022.44 Q1739.82 1020.92 1736.48 1020.92 L1732.95 1020.92 L1732.95 1017.56 L1736.64 1017.56 Q1739.66 1017.56 1741.26 1016.36 Q1742.86 1015.15 1742.86 1012.88 Q1742.86 1010.55 1741.2 1009.31 Q1739.56 1008.06 1736.48 1008.06 Q1734.8 1008.06 1732.87 1008.42 Q1730.95 1008.79 1728.64 1009.56 L1728.64 1005.91 Q1730.97 1005.26 1732.99 1004.94 Q1735.04 1004.62 1736.84 1004.62 Q1741.5 1004.62 1744.21 1006.74 Q1746.93 1008.85 1746.93 1012.45 Q1746.93 1014.97 1745.49 1016.71 Q1744.05 1018.43 1741.4 1019.1 Z\" fill=\"#000000\" fill-rule=\"evenodd\" fill-opacity=\"1\" /><path clip-path=\"url(#clip830)\" d=\"M1139.54 793.212 L1129.21 809.355 L1139.54 809.355 L1139.54 793.212 M1138.46 789.648 L1143.61 789.648 L1143.61 809.355 L1147.92 809.355 L1147.92 812.758 L1143.61 812.758 L1143.61 819.888 L1139.54 819.888 L1139.54 812.758 L1125.88 812.758 L1125.88 808.808 L1138.46 789.648 Z\" fill=\"#000000\" fill-rule=\"evenodd\" fill-opacity=\"1\" /><path clip-path=\"url(#clip830)\" d=\"M880.07 1309.12 L896.132 1309.12 L896.132 1312.56 L883.817 1312.56 L883.817 1319.97 Q884.708 1319.67 885.6 1319.53 Q886.491 1319.36 887.382 1319.36 Q892.446 1319.36 895.403 1322.14 Q898.36 1324.91 898.36 1329.65 Q898.36 1334.54 895.322 1337.25 Q892.284 1339.94 886.754 1339.94 Q884.85 1339.94 882.865 1339.62 Q880.901 1339.3 878.794 1338.65 L878.794 1334.54 Q880.617 1335.53 882.561 1336.01 Q884.506 1336.5 886.673 1336.5 Q890.177 1336.5 892.223 1334.66 Q894.269 1332.81 894.269 1329.65 Q894.269 1326.49 892.223 1324.65 Q890.177 1322.81 886.673 1322.81 Q885.032 1322.81 883.392 1323.17 Q881.771 1323.54 880.07 1324.31 L880.07 1309.12 Z\" fill=\"#000000\" fill-rule=\"evenodd\" fill-opacity=\"1\" /><path clip-path=\"url(#clip830)\" d=\"M1313.59 1336.05 Q1310.83 1336.05 1309.21 1337.94 Q1307.61 1339.82 1307.61 1343.1 Q1307.61 1346.36 1309.21 1348.27 Q1310.83 1350.15 1313.59 1350.15 Q1316.34 1350.15 1317.94 1348.27 Q1319.56 1346.36 1319.56 1343.1 Q1319.56 1339.82 1317.94 1337.94 Q1316.34 1336.05 1313.59 1336.05 M1321.71 1323.23 L1321.71 1326.96 Q1320.17 1326.23 1318.59 1325.84 Q1317.03 1325.46 1315.49 1325.46 Q1311.44 1325.46 1309.29 1328.19 Q1307.17 1330.93 1306.86 1336.46 Q1308.06 1334.7 1309.86 1333.76 Q1311.66 1332.81 1313.83 1332.81 Q1318.39 1332.81 1321.02 1335.59 Q1323.67 1338.34 1323.67 1343.1 Q1323.67 1347.76 1320.92 1350.57 Q1318.16 1353.39 1313.59 1353.39 Q1308.34 1353.39 1305.57 1349.38 Q1302.79 1345.35 1302.79 1337.71 Q1302.79 1330.54 1306.19 1326.29 Q1309.6 1322.02 1315.33 1322.02 Q1316.87 1322.02 1318.43 1322.32 Q1320.01 1322.62 1321.71 1323.23 Z\" fill=\"#000000\" fill-rule=\"evenodd\" fill-opacity=\"1\" /><path clip-path=\"url(#clip830)\" d=\"M652.595 539.91 L672.039 539.91 L672.039 541.651 L661.061 570.15 L656.788 570.15 L667.118 543.353 L652.595 543.353 L652.595 539.91 Z\" fill=\"#000000\" fill-rule=\"evenodd\" fill-opacity=\"1\" /></svg>\n",
      "text/html": [
       "<?xml version=\"1.0\" encoding=\"utf-8\"?>\n",
       "<svg xmlns=\"http://www.w3.org/2000/svg\" xmlns:xlink=\"http://www.w3.org/1999/xlink\" width=\"600\" height=\"400\" viewBox=\"0 0 2400 1600\">\n",
       "<defs>\n",
       "  <clipPath id=\"clip860\">\n",
       "    <rect x=\"0\" y=\"0\" width=\"2400\" height=\"1600\"/>\n",
       "  </clipPath>\n",
       "</defs>\n",
       "<path clip-path=\"url(#clip860)\" d=\"\n",
       "M0 1600 L2400 1600 L2400 0 L0 0  Z\n",
       "  \" fill=\"#ffffff\" fill-rule=\"evenodd\" fill-opacity=\"1\"/>\n",
       "<defs>\n",
       "  <clipPath id=\"clip861\">\n",
       "    <rect x=\"480\" y=\"0\" width=\"1681\" height=\"1600\"/>\n",
       "  </clipPath>\n",
       "</defs>\n",
       "<path clip-path=\"url(#clip860)\" d=\"\n",
       "M447.244 1552.76 L1952.76 1552.76 L1952.76 47.2441 L447.244 47.2441  Z\n",
       "  \" fill=\"#ffffff\" fill-rule=\"evenodd\" fill-opacity=\"1\"/>\n",
       "<defs>\n",
       "  <clipPath id=\"clip862\">\n",
       "    <rect x=\"447\" y=\"47\" width=\"1507\" height=\"1507\"/>\n",
       "  </clipPath>\n",
       "</defs>\n",
       "<polyline clip-path=\"url(#clip862)\" style=\"stroke:#000000; stroke-linecap:round; stroke-linejoin:round; stroke-width:4; stroke-opacity:1; fill:none\" points=\"\n",
       "  1084.99,262.317 1086.24,276.674 1089.87,290.261 1095.71,303.136 1103.59,315.354 1113.31,326.974 1124.72,338.052 1137.62,348.645 1151.85,358.81 1167.22,368.605 \n",
       "  1183.57,378.086 1200.71,387.311 1218.47,396.336 1236.67,405.218 1255.14,414.015 1273.69,422.783 1292.16,431.58 1310.36,440.462 1328.12,449.487 1345.26,458.712 \n",
       "  1361.61,468.193 1376.98,477.987 1391.21,488.153 1404.12,498.746 1415.52,509.824 1425.25,521.444 1433.12,533.662 1438.96,546.536 1442.59,560.123 1443.84,574.48 \n",
       "  \n",
       "  \"/>\n",
       "<polyline clip-path=\"url(#clip862)\" style=\"stroke:#000000; stroke-linecap:round; stroke-linejoin:round; stroke-width:4; stroke-opacity:1; fill:none\" points=\"\n",
       "  1443.84,574.48 1444.87,590.93 1447.84,607.148 1452.63,623.153 1459.07,638.961 1467.04,654.59 1476.37,670.056 1486.94,685.378 1498.59,700.571 1511.18,715.653 \n",
       "  1524.57,730.641 1538.6,745.552 1553.14,760.403 1568.05,775.211 1583.17,789.994 1598.36,804.769 1613.48,819.551 1628.38,834.36 1642.93,849.211 1656.96,864.122 \n",
       "  1670.35,879.11 1682.94,894.192 1694.59,909.385 1705.15,924.706 1714.49,940.173 1722.45,955.802 1728.9,971.61 1733.68,987.615 1736.66,1003.83 1737.68,1020.28 \n",
       "  \n",
       "  \"/>\n",
       "<polyline clip-path=\"url(#clip862)\" style=\"stroke:#000000; stroke-linecap:round; stroke-linejoin:round; stroke-width:4; stroke-opacity:1; fill:none\" points=\"\n",
       "  1443.84,574.48 1442.77,585.988 1439.67,596.732 1434.67,606.767 1427.94,616.152 1419.62,624.942 1409.86,633.194 1398.83,640.965 1386.66,648.312 1373.51,655.29 \n",
       "  1359.52,661.957 1344.86,668.37 1329.67,674.584 1314.1,680.657 1298.31,686.644 1282.44,692.604 1266.64,698.591 1251.08,704.664 1235.89,710.878 1221.22,717.291 \n",
       "  1207.24,723.958 1194.09,730.936 1181.92,738.283 1170.88,746.054 1161.13,754.306 1152.81,763.096 1146.08,772.481 1141.08,782.516 1137.97,793.26 1136.9,804.768 \n",
       "  \n",
       "  \"/>\n",
       "<polyline clip-path=\"url(#clip862)\" style=\"stroke:#000000; stroke-linecap:round; stroke-linejoin:round; stroke-width:4; stroke-opacity:1; fill:none\" points=\"\n",
       "  1136.9,804.768 1136.04,822.641 1133.52,840.522 1129.48,858.412 1124.03,876.309 1117.3,894.212 1109.41,912.121 1100.48,930.036 1090.64,947.955 1080,965.879 \n",
       "  1068.68,983.805 1056.82,1001.73 1044.53,1019.67 1031.94,1037.6 1019.16,1055.53 1006.32,1073.47 993.542,1091.4 980.947,1109.34 968.657,1127.27 956.795,1145.2 \n",
       "  945.483,1163.13 934.843,1181.05 924.998,1198.97 916.068,1216.88 908.177,1234.79 901.447,1252.7 896,1270.59 891.957,1288.48 889.442,1306.36 888.577,1324.24 \n",
       "  \n",
       "  \"/>\n",
       "<polyline clip-path=\"url(#clip862)\" style=\"stroke:#000000; stroke-linecap:round; stroke-linejoin:round; stroke-width:4; stroke-opacity:1; fill:none\" points=\"\n",
       "  1136.9,804.768 1137.52,822.285 1139.3,839.986 1142.17,857.858 1146.04,875.886 1150.82,894.058 1156.42,912.36 1162.76,930.777 1169.75,949.297 1177.31,967.905 \n",
       "  1185.34,986.588 1193.77,1005.33 1202.49,1024.12 1211.44,1042.95 1220.51,1061.8 1229.63,1080.65 1238.7,1099.5 1247.64,1118.33 1256.37,1137.12 1264.79,1155.86 \n",
       "  1272.82,1174.55 1280.38,1193.15 1287.37,1211.67 1293.71,1230.09 1299.31,1248.39 1304.09,1266.56 1307.96,1284.59 1310.83,1302.46 1312.62,1320.17 1313.23,1337.68 \n",
       "  \n",
       "  \"/>\n",
       "<polyline clip-path=\"url(#clip862)\" style=\"stroke:#000000; stroke-linecap:round; stroke-linejoin:round; stroke-width:4; stroke-opacity:1; fill:none\" points=\"\n",
       "  1084.99,262.317 1083.51,276.947 1079.23,290.605 1072.35,303.363 1063.08,315.293 1051.63,326.467 1038.2,336.957 1023,346.834 1006.24,356.171 988.128,365.041 \n",
       "  968.874,373.514 948.684,381.663 927.767,389.56 906.329,397.278 884.579,404.887 862.726,412.46 840.976,420.069 819.538,427.786 798.621,435.683 778.431,443.833 \n",
       "  759.177,452.306 741.066,461.175 724.308,470.513 709.109,480.39 695.678,490.88 684.223,502.053 674.951,513.983 668.071,526.741 663.79,540.399 662.317,555.03 \n",
       "  \n",
       "  \"/>\n",
       "<path clip-path=\"url(#clip862)\" d=\"\n",
       "M1106.93 262.317 L1095.96 243.319 L1074.02 243.319 L1063.05 262.317 L1074.02 281.316 L1095.96 281.316 L1106.93 262.317 L1106.93 262.317  Z\n",
       "  \" fill=\"#009af9\" fill-rule=\"evenodd\" fill-opacity=\"1\"/>\n",
       "<polyline clip-path=\"url(#clip862)\" style=\"stroke:#000000; stroke-linecap:round; stroke-linejoin:round; stroke-width:4; stroke-opacity:1; fill:none\" points=\"\n",
       "  1106.93,262.317 1095.96,243.319 1074.02,243.319 1063.05,262.317 1074.02,281.316 1095.96,281.316 1106.93,262.317 \n",
       "  \"/>\n",
       "<path clip-path=\"url(#clip862)\" d=\"\n",
       "M1465.78 574.48 L1454.81 555.482 L1432.88 555.482 L1421.91 574.48 L1432.88 593.479 L1454.81 593.479 L1465.78 574.48 L1465.78 574.48  Z\n",
       "  \" fill=\"#009af9\" fill-rule=\"evenodd\" fill-opacity=\"1\"/>\n",
       "<polyline clip-path=\"url(#clip862)\" style=\"stroke:#000000; stroke-linecap:round; stroke-linejoin:round; stroke-width:4; stroke-opacity:1; fill:none\" points=\"\n",
       "  1465.78,574.48 1454.81,555.482 1432.88,555.482 1421.91,574.48 1432.88,593.479 1454.81,593.479 1465.78,574.48 \n",
       "  \"/>\n",
       "<path clip-path=\"url(#clip862)\" d=\"\n",
       "M1759.62 1020.28 L1748.65 1001.28 L1726.71 1001.28 L1715.75 1020.28 L1726.71 1039.28 L1748.65 1039.28 L1759.62 1020.28 L1759.62 1020.28  Z\n",
       "  \" fill=\"#009af9\" fill-rule=\"evenodd\" fill-opacity=\"1\"/>\n",
       "<polyline clip-path=\"url(#clip862)\" style=\"stroke:#000000; stroke-linecap:round; stroke-linejoin:round; stroke-width:4; stroke-opacity:1; fill:none\" points=\"\n",
       "  1759.62,1020.28 1748.65,1001.28 1726.71,1001.28 1715.75,1020.28 1726.71,1039.28 1748.65,1039.28 1759.62,1020.28 \n",
       "  \"/>\n",
       "<path clip-path=\"url(#clip862)\" d=\"\n",
       "M1158.84 804.768 L1147.87 785.769 L1125.93 785.769 L1114.96 804.768 L1125.93 823.766 L1147.87 823.766 L1158.84 804.768 L1158.84 804.768  Z\n",
       "  \" fill=\"#009af9\" fill-rule=\"evenodd\" fill-opacity=\"1\"/>\n",
       "<polyline clip-path=\"url(#clip862)\" style=\"stroke:#000000; stroke-linecap:round; stroke-linejoin:round; stroke-width:4; stroke-opacity:1; fill:none\" points=\"\n",
       "  1158.84,804.768 1147.87,785.769 1125.93,785.769 1114.96,804.768 1125.93,823.766 1147.87,823.766 1158.84,804.768 \n",
       "  \"/>\n",
       "<path clip-path=\"url(#clip862)\" d=\"\n",
       "M910.514 1324.24 L899.546 1305.24 L877.608 1305.24 L866.64 1324.24 L877.608 1343.23 L899.546 1343.23 L910.514 1324.24 L910.514 1324.24  Z\n",
       "  \" fill=\"#009af9\" fill-rule=\"evenodd\" fill-opacity=\"1\"/>\n",
       "<polyline clip-path=\"url(#clip862)\" style=\"stroke:#000000; stroke-linecap:round; stroke-linejoin:round; stroke-width:4; stroke-opacity:1; fill:none\" points=\"\n",
       "  910.514,1324.24 899.546,1305.24 877.608,1305.24 866.64,1324.24 877.608,1343.23 899.546,1343.23 910.514,1324.24 \n",
       "  \"/>\n",
       "<path clip-path=\"url(#clip862)\" d=\"\n",
       "M1335.17 1337.68 L1324.2 1318.68 L1302.26 1318.68 L1291.29 1337.68 L1302.26 1356.68 L1324.2 1356.68 L1335.17 1337.68 L1335.17 1337.68  Z\n",
       "  \" fill=\"#009af9\" fill-rule=\"evenodd\" fill-opacity=\"1\"/>\n",
       "<polyline clip-path=\"url(#clip862)\" style=\"stroke:#000000; stroke-linecap:round; stroke-linejoin:round; stroke-width:4; stroke-opacity:1; fill:none\" points=\"\n",
       "  1335.17,1337.68 1324.2,1318.68 1302.26,1318.68 1291.29,1337.68 1302.26,1356.68 1324.2,1356.68 1335.17,1337.68 \n",
       "  \"/>\n",
       "<path clip-path=\"url(#clip862)\" d=\"\n",
       "M684.255 555.03 L673.286 536.031 L651.348 536.031 L640.38 555.03 L651.348 574.028 L673.286 574.028 L684.255 555.03 L684.255 555.03  Z\n",
       "  \" fill=\"#009af9\" fill-rule=\"evenodd\" fill-opacity=\"1\"/>\n",
       "<polyline clip-path=\"url(#clip862)\" style=\"stroke:#000000; stroke-linecap:round; stroke-linejoin:round; stroke-width:4; stroke-opacity:1; fill:none\" points=\"\n",
       "  684.255,555.03 673.286,536.031 651.348,536.031 640.38,555.03 651.348,574.028 673.286,574.028 684.255,555.03 \n",
       "  \"/>\n",
       "<path clip-path=\"url(#clip862)\" d=\"M1084.99 262.717 L1084.64 262.517 L1084.64 262.117 L1084.99 261.917 L1085.33 262.117 L1085.33 262.517 Z\" fill=\"#009af9\" fill-rule=\"evenodd\" fill-opacity=\"1\" stroke=\"#000000\" stroke-opacity=\"1\" stroke-width=\"3.2\"/>\n",
       "<path clip-path=\"url(#clip862)\" d=\"M1443.84 574.88 L1443.5 574.68 L1443.5 574.28 L1443.84 574.08 L1444.19 574.28 L1444.19 574.68 Z\" fill=\"#009af9\" fill-rule=\"evenodd\" fill-opacity=\"1\" stroke=\"#000000\" stroke-opacity=\"1\" stroke-width=\"3.2\"/>\n",
       "<path clip-path=\"url(#clip862)\" d=\"M1737.68 1020.68 L1737.34 1020.48 L1737.34 1020.08 L1737.68 1019.88 L1738.03 1020.08 L1738.03 1020.48 Z\" fill=\"#009af9\" fill-rule=\"evenodd\" fill-opacity=\"1\" stroke=\"#000000\" stroke-opacity=\"1\" stroke-width=\"3.2\"/>\n",
       "<path clip-path=\"url(#clip862)\" d=\"M1136.9 805.168 L1136.56 804.968 L1136.56 804.568 L1136.9 804.368 L1137.25 804.568 L1137.25 804.968 Z\" fill=\"#009af9\" fill-rule=\"evenodd\" fill-opacity=\"1\" stroke=\"#000000\" stroke-opacity=\"1\" stroke-width=\"3.2\"/>\n",
       "<path clip-path=\"url(#clip862)\" d=\"M888.577 1324.64 L888.231 1324.44 L888.231 1324.04 L888.577 1323.84 L888.923 1324.04 L888.923 1324.44 Z\" fill=\"#009af9\" fill-rule=\"evenodd\" fill-opacity=\"1\" stroke=\"#000000\" stroke-opacity=\"1\" stroke-width=\"3.2\"/>\n",
       "<path clip-path=\"url(#clip862)\" d=\"M1313.23 1338.08 L1312.89 1337.88 L1312.89 1337.48 L1313.23 1337.28 L1313.58 1337.48 L1313.58 1337.88 Z\" fill=\"#009af9\" fill-rule=\"evenodd\" fill-opacity=\"1\" stroke=\"#000000\" stroke-opacity=\"1\" stroke-width=\"3.2\"/>\n",
       "<path clip-path=\"url(#clip862)\" d=\"M662.317 555.43 L661.971 555.23 L661.971 554.83 L662.317 554.63 L662.664 554.83 L662.664 555.23 Z\" fill=\"#009af9\" fill-rule=\"evenodd\" fill-opacity=\"1\" stroke=\"#000000\" stroke-opacity=\"1\" stroke-width=\"3.2\"/>\n",
       "<path clip-path=\"url(#clip860)\" d=\"M1076.57 273.994 L1083.26 273.994 L1083.26 250.924 L1075.98 252.382 L1075.98 248.656 L1083.22 247.197 L1087.31 247.197 L1087.31 273.994 L1093.99 273.994 L1093.99 277.437 L1076.57 277.437 L1076.57 273.994 Z\" fill=\"#000000\" fill-rule=\"evenodd\" fill-opacity=\"1\" /><path clip-path=\"url(#clip860)\" d=\"M1439.17 586.157 L1453.44 586.157 L1453.44 589.6 L1434.24 589.6 L1434.24 586.157 Q1436.57 583.747 1440.58 579.696 Q1444.61 575.625 1445.65 574.45 Q1447.61 572.242 1448.38 570.723 Q1449.17 569.184 1449.17 567.705 Q1449.17 565.295 1447.47 563.776 Q1445.79 562.257 1443.07 562.257 Q1441.15 562.257 1439 562.925 Q1436.88 563.594 1434.45 564.951 L1434.45 560.819 Q1436.92 559.826 1439.06 559.32 Q1441.21 558.814 1442.99 558.814 Q1447.69 558.814 1450.49 561.163 Q1453.28 563.513 1453.28 567.442 Q1453.28 569.305 1452.57 570.987 Q1451.89 572.647 1450.04 574.916 Q1449.54 575.503 1446.82 578.319 Q1444.11 581.114 1439.17 586.157 Z\" fill=\"#000000\" fill-rule=\"evenodd\" fill-opacity=\"1\" /><path clip-path=\"url(#clip860)\" d=\"M1741.4 1019.1 Q1744.34 1019.73 1745.98 1021.71 Q1747.64 1023.7 1747.64 1026.61 Q1747.64 1031.09 1744.56 1033.54 Q1741.48 1035.99 1735.81 1035.99 Q1733.91 1035.99 1731.88 1035.61 Q1729.87 1035.24 1727.73 1034.49 L1727.73 1030.54 Q1729.43 1031.53 1731.45 1032.04 Q1733.48 1032.55 1735.69 1032.55 Q1739.54 1032.55 1741.54 1031.03 Q1743.57 1029.51 1743.57 1026.61 Q1743.57 1023.94 1741.68 1022.44 Q1739.82 1020.92 1736.48 1020.92 L1732.95 1020.92 L1732.95 1017.56 L1736.64 1017.56 Q1739.66 1017.56 1741.26 1016.36 Q1742.86 1015.15 1742.86 1012.88 Q1742.86 1010.55 1741.2 1009.31 Q1739.56 1008.06 1736.48 1008.06 Q1734.8 1008.06 1732.87 1008.42 Q1730.95 1008.79 1728.64 1009.56 L1728.64 1005.91 Q1730.97 1005.26 1732.99 1004.94 Q1735.04 1004.62 1736.84 1004.62 Q1741.5 1004.62 1744.21 1006.74 Q1746.93 1008.85 1746.93 1012.45 Q1746.93 1014.97 1745.49 1016.71 Q1744.05 1018.43 1741.4 1019.1 Z\" fill=\"#000000\" fill-rule=\"evenodd\" fill-opacity=\"1\" /><path clip-path=\"url(#clip860)\" d=\"M1139.54 793.212 L1129.21 809.355 L1139.54 809.355 L1139.54 793.212 M1138.46 789.648 L1143.61 789.648 L1143.61 809.355 L1147.92 809.355 L1147.92 812.758 L1143.61 812.758 L1143.61 819.888 L1139.54 819.888 L1139.54 812.758 L1125.88 812.758 L1125.88 808.808 L1138.46 789.648 Z\" fill=\"#000000\" fill-rule=\"evenodd\" fill-opacity=\"1\" /><path clip-path=\"url(#clip860)\" d=\"M880.07 1309.12 L896.132 1309.12 L896.132 1312.56 L883.817 1312.56 L883.817 1319.97 Q884.708 1319.67 885.6 1319.53 Q886.491 1319.36 887.382 1319.36 Q892.446 1319.36 895.403 1322.14 Q898.36 1324.91 898.36 1329.65 Q898.36 1334.54 895.322 1337.25 Q892.284 1339.94 886.754 1339.94 Q884.85 1339.94 882.865 1339.62 Q880.901 1339.3 878.794 1338.65 L878.794 1334.54 Q880.617 1335.53 882.561 1336.01 Q884.506 1336.5 886.673 1336.5 Q890.177 1336.5 892.223 1334.66 Q894.269 1332.81 894.269 1329.65 Q894.269 1326.49 892.223 1324.65 Q890.177 1322.81 886.673 1322.81 Q885.032 1322.81 883.392 1323.17 Q881.771 1323.54 880.07 1324.31 L880.07 1309.12 Z\" fill=\"#000000\" fill-rule=\"evenodd\" fill-opacity=\"1\" /><path clip-path=\"url(#clip860)\" d=\"M1313.59 1336.05 Q1310.83 1336.05 1309.21 1337.94 Q1307.61 1339.82 1307.61 1343.1 Q1307.61 1346.36 1309.21 1348.27 Q1310.83 1350.15 1313.59 1350.15 Q1316.34 1350.15 1317.94 1348.27 Q1319.56 1346.36 1319.56 1343.1 Q1319.56 1339.82 1317.94 1337.94 Q1316.34 1336.05 1313.59 1336.05 M1321.71 1323.23 L1321.71 1326.96 Q1320.17 1326.23 1318.59 1325.84 Q1317.03 1325.46 1315.49 1325.46 Q1311.44 1325.46 1309.29 1328.19 Q1307.17 1330.93 1306.86 1336.46 Q1308.06 1334.7 1309.86 1333.76 Q1311.66 1332.81 1313.83 1332.81 Q1318.39 1332.81 1321.02 1335.59 Q1323.67 1338.34 1323.67 1343.1 Q1323.67 1347.76 1320.92 1350.57 Q1318.16 1353.39 1313.59 1353.39 Q1308.34 1353.39 1305.57 1349.38 Q1302.79 1345.35 1302.79 1337.71 Q1302.79 1330.54 1306.19 1326.29 Q1309.6 1322.02 1315.33 1322.02 Q1316.87 1322.02 1318.43 1322.32 Q1320.01 1322.62 1321.71 1323.23 Z\" fill=\"#000000\" fill-rule=\"evenodd\" fill-opacity=\"1\" /><path clip-path=\"url(#clip860)\" d=\"M652.595 539.91 L672.039 539.91 L672.039 541.651 L661.061 570.15 L656.788 570.15 L667.118 543.353 L652.595 543.353 L652.595 539.91 Z\" fill=\"#000000\" fill-rule=\"evenodd\" fill-opacity=\"1\" /></svg>\n"
      ]
     },
     "metadata": {},
     "output_type": "display_data"
    }
   ],
   "source": [
    "BestProfit, Bestsol, trParentnodes, trChildnodes, trNamenodes = SolveKnapInstance(\"instancesETU/KNAPnewformat/test.opb.txt\")\n",
    "println(\"\\n******\\n\\nOptimal value = \", BestProfit, \"\\n\\nOptimal x=\", Bestsol)\n",
    "graphplot(trParentnodes, trChildnodes, names=trNamenodes, method=:tree)"
   ]
  },
  {
   "cell_type": "code",
   "execution_count": 9,
   "metadata": {},
   "outputs": [],
   "source": []
  },
  {
   "cell_type": "code",
   "execution_count": 10,
   "metadata": {},
   "outputs": [],
   "source": []
  }
 ],
 "metadata": {
  "kernelspec": {
   "display_name": "Julia 1.8.3",
   "language": "julia",
   "name": "julia-1.8"
  },
  "language_info": {
   "file_extension": ".jl",
   "mimetype": "application/julia",
   "name": "julia",
   "version": "1.8.3"
  },
  "vscode": {
   "interpreter": {
    "hash": "31f2aee4e71d21fbe5cf8b01ff0e069b9275f58929596ceb00d14d90e3e16cd6"
   }
  }
 },
 "nbformat": 4,
 "nbformat_minor": 4
}
